{
  "nbformat": 4,
  "nbformat_minor": 0,
  "metadata": {
    "colab": {
      "name": "ex2-conv-cifar10-in-colab.ipynb",
      "version": "0.3.2",
      "provenance": []
    },
    "kernelspec": {
      "display_name": "tensorflow",
      "language": "python",
      "name": "tensorflow"
    },
    "accelerator": "GPU"
  },
  "cells": [
    {
      "metadata": {
        "id": "loCIg2RWAtyA",
        "colab_type": "text"
      },
      "cell_type": "markdown",
      "source": [
        "<center><div style=\"direction:rtl;font-family:B Lotus, B Nazanin, Tahoma\">به نام خدا</div></center>\n",
        "\n",
        "<h1><center><div style=\"direction:rtl;font-family:B Lotus, B Nazanin, Tahoma\">تمرین عملی 2: طبقه بندی تصاویر Cifar10 با شبکه های کانولوشنالی روی googleColab</div></center></h1>\n",
        "\n",
        "[![Run in Google Colab](https://github.com/yazdipour/SRU-deeplearning-workshop/blob/master/homework/images/colab.png?raw=1)](https://colab.research.google.com/github/alireza-akhavan/SRU-deeplearning-workshop/blob/master/homework/ex2-conv-cifar10-in-colab.ipynb)"
      ]
    },
    {
      "metadata": {
        "id": "yf7WsRF7AtyD",
        "colab_type": "text"
      },
      "cell_type": "markdown",
      "source": [
        "## <div style=\"direction:rtl;text-align:right;font-family:B Lotus, B Nazanin, Tahoma\">صورت مساله</div>\n",
        "\n",
        "\n",
        "<div style=\"direction:rtl;text-align:right;font-family:Tahoma\">\n",
        "با شبکه های کانولوشنالی آشنا شدیم<br>\n",
        "توصیه می‌شود حتما بعد از تمرین اول این تمرین را حل کنید و قبل از این تمرین نوت بوک زیر را  مرور کنید:\n",
        "</div>\n",
        "\n",
        "[06_ConvolutionalNeuralNetwork-Hoda-Keras.ipynb ](https://nbviewer.jupyter.org/github/alireza-akhavan/SRU-deeplearning-workshop/blob/master/06_ConvolutionalNeuralNetwork-Hoda-Keras.ipynb)\n",
        "\n",
        "<div style=\"direction:rtl;text-align:right;font-family:Tahoma\">\n",
        "در این تمرین از مجموعه داده تصویری cifar10 استفاده خواهیم کرد. \n",
        "<br>\n",
        "خیلی از اوقات ممکنه دسترسی به GPU نداشته باشیم. حخوشبختانه سرویس های آنلاین و رایگانی هستند که توان محاسباتی رایگان در اختیارمان میگذراند. در این تمرین از شما خواسته شده که این نوت بوک را در گوگل کولب اجرا کنید.\n",
        "<br>\n",
        " قبلا در مورد گوگل کولب دو پست آموزشی نوشته شده است که در صورت تمایل به کسب اطلاعات بیشتر میتوانید بخوانید.\n",
        "    اما برای اجرا این تمرین نیازی به این جزئیات نخواهید داشت.\n",
        "</div>\n",
        "\n",
        "[آشنایی با سرویس ابری Google Colab ](http://blog.class.vision/1397/02/google-colab/)\n",
        "\n",
        "[اتصال مستقیم سرویس کولب (Google Colab) به درایو (Google Drive) از طریق فایل سیستم FUSE ](http://blog.class.vision/1397/04/%D8%A7%D8%AA%D8%B5%D8%A7%D9%84-%D9%85%D8%B3%D8%AA%D9%82%DB%8C%D9%85-%D8%B3%D8%B1%D9%88%DB%8C%D8%B3-%DA%A9%D9%88%D9%84%D8%A8-google-colab-%D8%A8%D9%87-%D8%AF%D8%B1%D8%A7%DB%8C%D9%88-google-drive/)\n"
      ]
    },
    {
      "metadata": {
        "id": "uyAI3tm5AtyE",
        "colab_type": "text"
      },
      "cell_type": "markdown",
      "source": [
        "## <div style=\"direction:rtl;text-align:right;font-family:B Lotus, B Nazanin, Tahoma\">لود کتابخانه های مورد نیاز </div>\n",
        "<div style=\"direction:rtl;text-align:right;font-family:Tahoma\">\n",
        "کتابخانه های مورد نیاز این تمرین لود شده اند\n",
        "<br>\n",
        "در صورت نیاز میتوانید کتابخانه های بیشتری لود کنید:\n",
        "</div>"
      ]
    },
    {
      "metadata": {
        "id": "3gepxFqXAtyF",
        "colab_type": "code",
        "colab": {
          "base_uri": "https://localhost:8080/",
          "height": 34
        },
        "outputId": "6141ccb7-4645-482a-d59d-375e4e75121e"
      },
      "cell_type": "code",
      "source": [
        "import keras\n",
        "from keras.models import Sequential\n",
        "from keras.layers import Dense, Activation, Flatten, Dropout\n",
        "from keras.layers import Conv2D, MaxPooling2D\n",
        "from keras.datasets import cifar10\n",
        "import numpy as np\n",
        "import matplotlib.pyplot as plt\n",
        "%matplotlib inline"
      ],
      "execution_count": 1,
      "outputs": [
        {
          "output_type": "stream",
          "text": [
            "Using TensorFlow backend.\n"
          ],
          "name": "stderr"
        }
      ]
    },
    {
      "metadata": {
        "id": "NZ4oRTVzAtyL",
        "colab_type": "text"
      },
      "cell_type": "markdown",
      "source": [
        "## <div style=\"direction:rtl;text-align:right;font-family:B Lotus, B Nazanin, Tahoma\">مجموعه داده ی Cifar10 </div>\n",
        "<div style=\"direction:rtl;text-align:right;font-family:Tahoma\">\n",
        "<br>\n",
        "این مجموعه داده تصاویر رنگی در اندازه ی 32 در 32 و در 10 کلاس مختلف شامل ماشین، کامیون، اسب و ... است که در چارچوب کراس موجود است و از همان استفاده میکنیم.\n",
        "<br>\n",
        "اطلاعات بیشتر در مورد این مجموعه داده را از سایت این مجموعه داده میتوانید مطالعه کنید:\n",
        "<br>\n",
        "</div>\n",
        "\n",
        "https://www.cs.toronto.edu/~kriz/cifar.html"
      ]
    },
    {
      "metadata": {
        "id": "UPen8hd2AtyN",
        "colab_type": "code",
        "colab": {}
      },
      "cell_type": "code",
      "source": [
        "(x_train, y_train), (x_test, y_test) = cifar10.load_data()"
      ],
      "execution_count": 0,
      "outputs": []
    },
    {
      "metadata": {
        "id": "IpS0izRLAtyQ",
        "colab_type": "text"
      },
      "cell_type": "markdown",
      "source": [
        "## <div style=\"direction:rtl;text-align:right;font-family:B Lotus, B Nazanin, Tahoma\">نگاهی به مجموعه داده بیندازیم...</div>\n",
        "<div style=\"direction:rtl;text-align:right;font-family:Tahoma\">\n",
        "در زیر تصویری که در اندیس 7-ام این مجموعه داده قرار دارد را مشاهده می‌کنیم. این شماره را را به دلخوه عوض کنید و چند تصویر دیگر این مجموعه داده را ببینید.\n",
        "</div>\n"
      ]
    },
    {
      "metadata": {
        "id": "nc_aEsPYAtyR",
        "colab_type": "code",
        "colab": {
          "base_uri": "https://localhost:8080/",
          "height": 283
        },
        "outputId": "fd2bb9de-f4f4-417f-a4f6-fd444ed7f72b"
      },
      "cell_type": "code",
      "source": [
        "plt.imshow(x_train[2])"
      ],
      "execution_count": 3,
      "outputs": [
        {
          "output_type": "execute_result",
          "data": {
            "text/plain": [
              "<matplotlib.image.AxesImage at 0x7fa458dc5bd0>"
            ]
          },
          "metadata": {
            "tags": []
          },
          "execution_count": 3
        },
        {
          "output_type": "display_data",
          "data": {
            "image/png": "[encoded data removed]",
            "text/plain": [
              "<Figure size 432x288 with 1 Axes>"
            ]
          },
          "metadata": {
            "tags": []
          }
        }
      ]
    },
    {
      "metadata": {
        "id": "zwaSMnHsAtyU",
        "colab_type": "text"
      },
      "cell_type": "markdown",
      "source": [
        "# <div style=\"direction:rtl;text-align:right;font-family:B Lotus, B Nazanin, Tahoma\">سوال 1:</div>\n",
        "<div style=\"direction:rtl;text-align:right;font-family:Tahoma\">\n",
        "ماتریس های تصویر را تبدیل به نوع داده ای float32 کنید و مقادیر پیکسل ها را نرمال کنید و بین 0 و 1 بیاورید.\n",
        "<br>\n",
        "<b>راهنمایی: </b>\n",
        "شما باید متد astype را صدا بزنید و در نهایت مقادیر پیکسل ها را تقسیم بر 255 کنید.</div>"
      ]
    },
    {
      "metadata": {
        "id": "9i1PAcvyAtyV",
        "colab_type": "code",
        "colab": {}
      },
      "cell_type": "code",
      "source": [
        "x_train = x_train.astype('float32')/255\n",
        "x_test = x_test.astype('float32')/255"
      ],
      "execution_count": 0,
      "outputs": []
    },
    {
      "metadata": {
        "id": "wjbqIKtmAtyY",
        "colab_type": "text"
      },
      "cell_type": "markdown",
      "source": [
        "# <div style=\"direction:rtl;text-align:right;font-family:B Lotus, B Nazanin, Tahoma\">سوال 2:</div>\n",
        "<div style=\"direction:rtl;text-align:right;font-family:Tahoma\">\n",
        "همان طور که میبینید لیبل ها از نوع عددی هستند. آن ها را تبدیل به فرمت one-hot کنید.<br>\n",
        "</div>\n"
      ]
    },
    {
      "metadata": {
        "id": "hJXeCHdWAtyZ",
        "colab_type": "text"
      },
      "cell_type": "markdown",
      "source": [
        "<hr>\n",
        "<div style=\"direction:rtl;text-align:right;font-family:Tahoma\">\n",
        "تعدادی از لیبل ها قبل از تبدیل به فرمت one-hot:</div>"
      ]
    },
    {
      "metadata": {
        "id": "3Io-fz_-AtyZ",
        "colab_type": "code",
        "colab": {
          "base_uri": "https://localhost:8080/",
          "height": 187
        },
        "outputId": "1d759221-6b18-417d-f8e0-646ddfac8f21"
      },
      "cell_type": "code",
      "source": [
        "y_train[0:10]"
      ],
      "execution_count": 5,
      "outputs": [
        {
          "output_type": "execute_result",
          "data": {
            "text/plain": [
              "array([[6],\n",
              "       [9],\n",
              "       [9],\n",
              "       [4],\n",
              "       [1],\n",
              "       [1],\n",
              "       [2],\n",
              "       [7],\n",
              "       [8],\n",
              "       [3]], dtype=uint8)"
            ]
          },
          "metadata": {
            "tags": []
          },
          "execution_count": 5
        }
      ]
    },
    {
      "metadata": {
        "id": "10pT2yCiAtyc",
        "colab_type": "code",
        "colab": {}
      },
      "cell_type": "code",
      "source": [
        "y_train = keras.utils.to_categorical(y_train, num_classes=10)\n",
        "y_test = keras.utils.to_categorical(y_test, num_classes=10)"
      ],
      "execution_count": 0,
      "outputs": []
    },
    {
      "metadata": {
        "id": "ysMaYicNAtyf",
        "colab_type": "text"
      },
      "cell_type": "markdown",
      "source": [
        "<div style=\"direction:rtl;text-align:right;font-family:Tahoma\">\n",
        "تعدادی از لیبل ها بعد از تبدیل به فرمت one-hot:</div>"
      ]
    },
    {
      "metadata": {
        "id": "tl0-pIePAtyf",
        "colab_type": "code",
        "colab": {
          "base_uri": "https://localhost:8080/",
          "height": 187
        },
        "outputId": "0bb52fad-c80d-477a-8e0f-cf93cc655ec8"
      },
      "cell_type": "code",
      "source": [
        "y_train[0:10]"
      ],
      "execution_count": 7,
      "outputs": [
        {
          "output_type": "execute_result",
          "data": {
            "text/plain": [
              "array([[0., 0., 0., 0., 0., 0., 1., 0., 0., 0.],\n",
              "       [0., 0., 0., 0., 0., 0., 0., 0., 0., 1.],\n",
              "       [0., 0., 0., 0., 0., 0., 0., 0., 0., 1.],\n",
              "       [0., 0., 0., 0., 1., 0., 0., 0., 0., 0.],\n",
              "       [0., 1., 0., 0., 0., 0., 0., 0., 0., 0.],\n",
              "       [0., 1., 0., 0., 0., 0., 0., 0., 0., 0.],\n",
              "       [0., 0., 1., 0., 0., 0., 0., 0., 0., 0.],\n",
              "       [0., 0., 0., 0., 0., 0., 0., 1., 0., 0.],\n",
              "       [0., 0., 0., 0., 0., 0., 0., 0., 1., 0.],\n",
              "       [0., 0., 0., 1., 0., 0., 0., 0., 0., 0.]], dtype=float32)"
            ]
          },
          "metadata": {
            "tags": []
          },
          "execution_count": 7
        }
      ]
    },
    {
      "metadata": {
        "id": "FKdo2O7IAtyj",
        "colab_type": "text"
      },
      "cell_type": "markdown",
      "source": [
        " # <div style=\"direction:rtl;text-align:right;font-family:B Lotus, B Nazanin, Tahoma\">سوال 3:</div>\n",
        "<div style=\"direction:rtl;text-align:right;font-family:Tahoma\">\n",
        "یک شبکه کانولوشنالی با معماری زیر بسازید:\n",
        "<ul>\n",
        "    <li>\n",
        "    یک لایه کانولوشنی با32 فیلتر با سایز فیلتر 3x3 و تابع فعالیت relu\n",
        "    </li>\n",
        "    <li>\n",
        "    لایه ی pooling با pool_size=(2,2)\n",
        "    </li>\n",
        "    <li>\n",
        "    یک لایه کانولوشنی با32 فیلتر با سایز فیلتر 3x3 و تابع فعالیت relu\n",
        "    </li>\n",
        "    <li>\n",
        "    لایه ی pooling با pool_size=(2,2)\n",
        "    </li>\n",
        "    <li>\n",
        "    یک لایه کانولوشنی با64 فیلتر با سایز فیلتر 3x3 و تابع فعالیت relu\n",
        "    </li>\n",
        "    <li>\n",
        "    لایه ی pooling با pool_size=(2,2)\n",
        "    </li>\n",
        "    <li>\n",
        "    استفاده از لایه ی Flatten() . به نظرتون چرا؟\n",
        "    </li>    \n",
        "    <li>\n",
        "    یک لایه Dropout با ترخ 0.5.\n",
        "    </li>\n",
        "    <li>\n",
        "    یک لایه softmax برای احتمالات خروجی. به نظرتون این لایه چند نوران میخواهد؟\n",
        "    </li>    \n",
        " \n",
        "</ul>\n",
        "</div>\n"
      ]
    },
    {
      "metadata": {
        "id": "R9JcqRcCAtyj",
        "colab_type": "code",
        "colab": {
          "base_uri": "https://localhost:8080/",
          "height": 139
        },
        "outputId": "7305fd6c-a54e-4c3d-a267-e9f61748402e"
      },
      "cell_type": "code",
      "source": [
        "model = Sequential()\n",
        "model.add(Conv2D(32, (3, 3), activation='relu', input_shape=(32, 32, 3)))\n",
        "model.add(MaxPooling2D((2, 2)))\n",
        "model.add(Conv2D(32, (3, 3), activation='relu'))\n",
        "model.add(MaxPooling2D((2, 2)))\n",
        "model.add(Conv2D(64, (3, 3), activation='relu'))\n",
        "model.add(Flatten())\n",
        "model.add(Dense(64, activation='relu'))\n",
        "model.add(Dropout(0.5))\n",
        "model.add(Dense(10, activation='softmax'))"
      ],
      "execution_count": 8,
      "outputs": [
        {
          "output_type": "stream",
          "text": [
            "WARNING:tensorflow:From /usr/local/lib/python2.7/dist-packages/tensorflow/python/framework/op_def_library.py:263: colocate_with (from tensorflow.python.framework.ops) is deprecated and will be removed in a future version.\n",
            "Instructions for updating:\n",
            "Colocations handled automatically by placer.\n",
            "WARNING:tensorflow:From /usr/local/lib/python2.7/dist-packages/keras/backend/tensorflow_backend.py:3445: calling dropout (from tensorflow.python.ops.nn_ops) with keep_prob is deprecated and will be removed in a future version.\n",
            "Instructions for updating:\n",
            "Please use `rate` instead of `keep_prob`. Rate should be set to `rate = 1 - keep_prob`.\n"
          ],
          "name": "stdout"
        }
      ]
    },
    {
      "metadata": {
        "id": "iGh9xdhhENvm",
        "colab_type": "code",
        "colab": {
          "base_uri": "https://localhost:8080/",
          "height": 442
        },
        "outputId": "34ef2f3d-3c85-48fb-93e8-e37fed32b4b3"
      },
      "cell_type": "code",
      "source": [
        "model.summary()"
      ],
      "execution_count": 9,
      "outputs": [
        {
          "output_type": "stream",
          "text": [
            "_________________________________________________________________\n",
            "Layer (type)                 Output Shape              Param #   \n",
            "=================================================================\n",
            "conv2d_1 (Conv2D)            (None, 30, 30, 32)        896       \n",
            "_________________________________________________________________\n",
            "max_pooling2d_1 (MaxPooling2 (None, 15, 15, 32)        0         \n",
            "_________________________________________________________________\n",
            "conv2d_2 (Conv2D)            (None, 13, 13, 32)        9248      \n",
            "_________________________________________________________________\n",
            "max_pooling2d_2 (MaxPooling2 (None, 6, 6, 32)          0         \n",
            "_________________________________________________________________\n",
            "conv2d_3 (Conv2D)            (None, 4, 4, 64)          18496     \n",
            "_________________________________________________________________\n",
            "flatten_1 (Flatten)          (None, 1024)              0         \n",
            "_________________________________________________________________\n",
            "dense_1 (Dense)              (None, 64)                65600     \n",
            "_________________________________________________________________\n",
            "dropout_1 (Dropout)          (None, 64)                0         \n",
            "_________________________________________________________________\n",
            "dense_2 (Dense)              (None, 10)                650       \n",
            "=================================================================\n",
            "Total params: 94,890\n",
            "Trainable params: 94,890\n",
            "Non-trainable params: 0\n",
            "_________________________________________________________________\n"
          ],
          "name": "stdout"
        }
      ]
    },
    {
      "metadata": {
        "id": "X3Y7RYWNAtym",
        "colab_type": "text"
      },
      "cell_type": "markdown",
      "source": [
        "# <div style=\"direction:rtl;text-align:right;font-family:B Lotus, B Nazanin, Tahoma\">سوال 4:</div>\n",
        "<div style=\"direction:rtl;text-align:right;font-family:Tahoma\">\n",
        "مدل را کامپایل کنید و به عنوان optimizer متغیر opt_rms به تابع ارسال کنید. </div>\n"
      ]
    },
    {
      "metadata": {
        "id": "KdgEL2RJAtyn",
        "colab_type": "code",
        "colab": {}
      },
      "cell_type": "code",
      "source": [
        "opt_rms = keras.optimizers.rmsprop(lr=0.001,decay=1e-6)\n",
        "\n",
        "model.compile(loss='categorical_crossentropy',\n",
        "              optimizer= opt_rms,\n",
        "              metrics=['accuracy'])"
      ],
      "execution_count": 0,
      "outputs": []
    },
    {
      "metadata": {
        "id": "dKcWBQCeAtyq",
        "colab_type": "text"
      },
      "cell_type": "markdown",
      "source": [
        "# <div style=\"direction:rtl;text-align:right;font-family:B Lotus, B Nazanin, Tahoma\">سوال 5:</div>\n",
        "<div style=\"direction:rtl;text-align:right;font-family:Tahoma\">\n",
        "با فراخوانی متد fit\n",
        "  روی مدل آن را آموزش بدهید.\n",
        "  برای سادگی\n",
        "  25\n",
        "  ایپاک با سایز بچ \n",
        "  64 بزنید. \n",
        "    <br>\n",
        " به عنوان دیتای validation نیز x_test و y_test را ارسال کنید که در هر سری کارایی روی داده های تست اعلام شود.\n",
        "</div>"
      ]
    },
    {
      "metadata": {
        "id": "bLCsezDfAtyr",
        "colab_type": "code",
        "colab": {
          "base_uri": "https://localhost:8080/",
          "height": 802
        },
        "outputId": "7c5a49bd-4a4c-4cab-81f4-3c688dac1bf0"
      },
      "cell_type": "code",
      "source": [
        "model.fit(x_train, y_train, epochs= 20, batch_size= 64, validation_data = (x_test, y_test))"
      ],
      "execution_count": 11,
      "outputs": [
        {
          "output_type": "stream",
          "text": [
            "WARNING:tensorflow:From /usr/local/lib/python2.7/dist-packages/tensorflow/python/ops/math_ops.py:3066: to_int32 (from tensorflow.python.ops.math_ops) is deprecated and will be removed in a future version.\n",
            "Instructions for updating:\n",
            "Use tf.cast instead.\n",
            "Train on 50000 samples, validate on 10000 samples\n",
            "Epoch 1/20\n",
            "50000/50000 [==============================] - 12s 243us/step - loss: 1.8011 - acc: 0.3446 - val_loss: 1.4149 - val_acc: 0.4861\n",
            "Epoch 2/20\n",
            "50000/50000 [==============================] - 8s 162us/step - loss: 1.4549 - acc: 0.4846 - val_loss: 1.3923 - val_acc: 0.5055\n",
            "Epoch 3/20\n",
            "50000/50000 [==============================] - 8s 161us/step - loss: 1.2976 - acc: 0.5447 - val_loss: 1.5161 - val_acc: 0.4743\n",
            "Epoch 4/20\n",
            "50000/50000 [==============================] - 8s 160us/step - loss: 1.1893 - acc: 0.5865 - val_loss: 1.1211 - val_acc: 0.6039\n",
            "Epoch 5/20\n",
            "50000/50000 [==============================] - 8s 161us/step - loss: 1.1147 - acc: 0.6153 - val_loss: 1.2317 - val_acc: 0.5684\n",
            "Epoch 6/20\n",
            "50000/50000 [==============================] - 8s 162us/step - loss: 1.0624 - acc: 0.6344 - val_loss: 1.0466 - val_acc: 0.6351\n",
            "Epoch 7/20\n",
            "50000/50000 [==============================] - 8s 160us/step - loss: 1.0230 - acc: 0.6535 - val_loss: 1.0580 - val_acc: 0.6330\n",
            "Epoch 8/20\n",
            "50000/50000 [==============================] - 8s 159us/step - loss: 0.9883 - acc: 0.6644 - val_loss: 0.9653 - val_acc: 0.6685\n",
            "Epoch 9/20\n",
            "50000/50000 [==============================] - 8s 160us/step - loss: 0.9647 - acc: 0.6723 - val_loss: 1.5003 - val_acc: 0.5789\n",
            "Epoch 10/20\n",
            "50000/50000 [==============================] - 8s 160us/step - loss: 0.9572 - acc: 0.6777 - val_loss: 1.1404 - val_acc: 0.6170\n",
            "Epoch 11/20\n",
            "50000/50000 [==============================] - 8s 160us/step - loss: 0.9408 - acc: 0.6838 - val_loss: 1.0667 - val_acc: 0.6500\n",
            "Epoch 12/20\n",
            "50000/50000 [==============================] - 8s 160us/step - loss: 0.9255 - acc: 0.6890 - val_loss: 0.9812 - val_acc: 0.6906\n",
            "Epoch 13/20\n",
            "50000/50000 [==============================] - 8s 163us/step - loss: 0.9161 - acc: 0.6953 - val_loss: 0.9583 - val_acc: 0.6890\n",
            "Epoch 14/20\n",
            "50000/50000 [==============================] - 8s 160us/step - loss: 0.9152 - acc: 0.6969 - val_loss: 1.1136 - val_acc: 0.6403\n",
            "Epoch 15/20\n",
            "50000/50000 [==============================] - 8s 160us/step - loss: 0.9039 - acc: 0.6983 - val_loss: 1.1154 - val_acc: 0.6833\n",
            "Epoch 16/20\n",
            "50000/50000 [==============================] - 8s 159us/step - loss: 0.9006 - acc: 0.7018 - val_loss: 1.1211 - val_acc: 0.6574\n",
            "Epoch 17/20\n",
            "50000/50000 [==============================] - 8s 159us/step - loss: 0.9011 - acc: 0.7032 - val_loss: 0.9422 - val_acc: 0.6948\n",
            "Epoch 18/20\n",
            "50000/50000 [==============================] - 8s 161us/step - loss: 0.8992 - acc: 0.7007 - val_loss: 1.2393 - val_acc: 0.6292\n",
            "Epoch 19/20\n",
            "50000/50000 [==============================] - 8s 159us/step - loss: 0.9011 - acc: 0.7034 - val_loss: 1.2510 - val_acc: 0.6241\n",
            "Epoch 20/20\n",
            "50000/50000 [==============================] - 8s 160us/step - loss: 0.9037 - acc: 0.7016 - val_loss: 1.0955 - val_acc: 0.6211\n"
          ],
          "name": "stdout"
        },
        {
          "output_type": "execute_result",
          "data": {
            "text/plain": [
              "<keras.callbacks.History at 0x7fa496947990>"
            ]
          },
          "metadata": {
            "tags": []
          },
          "execution_count": 11
        }
      ]
    },
    {
      "metadata": {
        "id": "OCSr_9TuAtyt",
        "colab_type": "text"
      },
      "cell_type": "markdown",
      "source": [
        "# <div style=\"direction:rtl;text-align:right;font-family:B Lotus, B Nazanin, Tahoma\">سوال 6:</div>\n",
        "<div style=\"direction:rtl;text-align:right;font-family:Tahoma\">\n",
        "شبکه و هایپرپارامترهای این شبکه را به هر نحوی دوست دارید تغییر دهید تا دقت روی دادگان تست را به حداکثر برسانید.\n",
        "</div>\n"
      ]
    },
    {
      "metadata": {
        "id": "wXMemlsdAtyw",
        "colab_type": "text"
      },
      "cell_type": "markdown",
      "source": [
        "<div class=\"alert alert-block alert-info\">\n",
        "<div style=\"direction:rtl;text-align:right;font-family:B Lotus, B Nazanin, Tahoma\"> دوره مقدماتی یادگیری عمیق<br>علیرضا اخوان پور<br>پنج شنبه، ۱۸ و ۲۵ بهمن ۱۳۹۷<br>\n",
        "</div>\n",
        "<a href=\"http://class.vision\">Class.Vision</a> - <a href=\"http://AkhavanPour.ir\">AkhavanPour.ir</a> - <a href=\"https://github.com/Alireza-Akhavan/\">GitHub</a>\n",
        "\n",
        "</div>"
      ]
    },
    {
      "metadata": {
        "id": "xZYTdJaLAtyw",
        "colab_type": "code",
        "colab": {
          "base_uri": "https://localhost:8080/",
          "height": 612
        },
        "outputId": "2294e417-4813-407f-bb28-96a8d6698b53"
      },
      "cell_type": "code",
      "source": [
        "#https://github.com/katnoria/cifar10-native-vs-colab\n",
        "model2 = Sequential()\n",
        "model2.add(Conv2D(32, (3,3), padding='same', activation='relu', input_shape=(32,32,3)))\n",
        "model2.add(keras.layers.BatchNormalization())\n",
        "model2.add(MaxPooling2D(pool_size=(3,3)))\n",
        "model2.add(Conv2D(64, (3,3), padding='same', activation='relu'))\n",
        "model2.add(keras.layers.BatchNormalization())\n",
        "model2.add(MaxPooling2D(pool_size=(3,3)))\n",
        "model2.add(Conv2D(128, (3,3), padding='same', activation='relu'))\n",
        "model2.add(keras.layers.BatchNormalization())\n",
        "model2.add(MaxPooling2D(pool_size=(3,3)))\n",
        "model2.add(Flatten())\n",
        "model2.add(Dense(128, activation='relu'))\n",
        "model2.add(Dropout(0.4))\n",
        "model2.add(Dense(10, activation='relu'))\n",
        "model2.add(Activation('softmax'))\n",
        "model2.summary()"
      ],
      "execution_count": 14,
      "outputs": [
        {
          "output_type": "stream",
          "text": [
            "_________________________________________________________________\n",
            "Layer (type)                 Output Shape              Param #   \n",
            "=================================================================\n",
            "conv2d_7 (Conv2D)            (None, 32, 32, 32)        896       \n",
            "_________________________________________________________________\n",
            "batch_normalization_2 (Batch (None, 32, 32, 32)        128       \n",
            "_________________________________________________________________\n",
            "max_pooling2d_4 (MaxPooling2 (None, 10, 10, 32)        0         \n",
            "_________________________________________________________________\n",
            "conv2d_8 (Conv2D)            (None, 10, 10, 64)        18496     \n",
            "_________________________________________________________________\n",
            "batch_normalization_3 (Batch (None, 10, 10, 64)        256       \n",
            "_________________________________________________________________\n",
            "max_pooling2d_5 (MaxPooling2 (None, 3, 3, 64)          0         \n",
            "_________________________________________________________________\n",
            "conv2d_9 (Conv2D)            (None, 3, 3, 128)         73856     \n",
            "_________________________________________________________________\n",
            "batch_normalization_4 (Batch (None, 3, 3, 128)         512       \n",
            "_________________________________________________________________\n",
            "max_pooling2d_6 (MaxPooling2 (None, 1, 1, 128)         0         \n",
            "_________________________________________________________________\n",
            "flatten_2 (Flatten)          (None, 128)               0         \n",
            "_________________________________________________________________\n",
            "dense_3 (Dense)              (None, 128)               16512     \n",
            "_________________________________________________________________\n",
            "dropout_2 (Dropout)          (None, 128)               0         \n",
            "_________________________________________________________________\n",
            "dense_4 (Dense)              (None, 10)                1290      \n",
            "_________________________________________________________________\n",
            "activation_1 (Activation)    (None, 10)                0         \n",
            "=================================================================\n",
            "Total params: 111,946\n",
            "Trainable params: 111,498\n",
            "Non-trainable params: 448\n",
            "_________________________________________________________________\n"
          ],
          "name": "stdout"
        }
      ]
    },
    {
      "metadata": {
        "id": "ej2EoVwiI09q",
        "colab_type": "code",
        "colab": {}
      },
      "cell_type": "code",
      "source": [
        "model2.compile(loss='categorical_crossentropy',\n",
        "              optimizer= opt_rms,\n",
        "              metrics=['accuracy'])"
      ],
      "execution_count": 0,
      "outputs": []
    },
    {
      "metadata": {
        "id": "J4nbb9ADI9kQ",
        "colab_type": "code",
        "colab": {
          "base_uri": "https://localhost:8080/",
          "height": 751
        },
        "outputId": "317db38f-47cf-4b4b-ebeb-e9bf25f2012d"
      },
      "cell_type": "code",
      "source": [
        "model2.fit(x_train, y_train, epochs= 20, batch_size= 64, validation_data = (x_test, y_test))"
      ],
      "execution_count": 19,
      "outputs": [
        {
          "output_type": "stream",
          "text": [
            "Train on 50000 samples, validate on 10000 samples\n",
            "Epoch 1/20\n",
            "50000/50000 [==============================] - 12s 230us/step - loss: 1.5598 - acc: 0.4551 - val_loss: 1.4802 - val_acc: 0.5034\n",
            "Epoch 2/20\n",
            "50000/50000 [==============================] - 11s 217us/step - loss: 1.1490 - acc: 0.6042 - val_loss: 1.4017 - val_acc: 0.5344\n",
            "Epoch 3/20\n",
            "50000/50000 [==============================] - 11s 214us/step - loss: 0.9981 - acc: 0.6594 - val_loss: 1.4828 - val_acc: 0.5287\n",
            "Epoch 4/20\n",
            "50000/50000 [==============================] - 11s 212us/step - loss: 0.9006 - acc: 0.6953 - val_loss: 1.3524 - val_acc: 0.5605\n",
            "Epoch 5/20\n",
            "50000/50000 [==============================] - 11s 213us/step - loss: 0.8367 - acc: 0.7177 - val_loss: 0.9885 - val_acc: 0.6805\n",
            "Epoch 6/20\n",
            "50000/50000 [==============================] - 11s 217us/step - loss: 0.7902 - acc: 0.7337 - val_loss: 1.1431 - val_acc: 0.6298\n",
            "Epoch 7/20\n",
            "50000/50000 [==============================] - 11s 215us/step - loss: 0.7429 - acc: 0.7502 - val_loss: 1.1491 - val_acc: 0.6346\n",
            "Epoch 8/20\n",
            "50000/50000 [==============================] - 11s 214us/step - loss: 0.7030 - acc: 0.7632 - val_loss: 1.2919 - val_acc: 0.6188\n",
            "Epoch 9/20\n",
            "50000/50000 [==============================] - 11s 213us/step - loss: 0.6686 - acc: 0.7774 - val_loss: 1.1640 - val_acc: 0.6374\n",
            "Epoch 10/20\n",
            "50000/50000 [==============================] - 11s 210us/step - loss: 0.6412 - acc: 0.7866 - val_loss: 1.1819 - val_acc: 0.6542\n",
            "Epoch 11/20\n",
            "50000/50000 [==============================] - 10s 209us/step - loss: 0.6119 - acc: 0.7973 - val_loss: 2.1482 - val_acc: 0.4921\n",
            "Epoch 12/20\n",
            "50000/50000 [==============================] - 10s 210us/step - loss: 0.5895 - acc: 0.8063 - val_loss: 1.2962 - val_acc: 0.6393\n",
            "Epoch 13/20\n",
            "50000/50000 [==============================] - 10s 209us/step - loss: 0.5651 - acc: 0.8129 - val_loss: 1.4005 - val_acc: 0.6383\n",
            "Epoch 14/20\n",
            "50000/50000 [==============================] - 11s 210us/step - loss: 0.5435 - acc: 0.8198 - val_loss: 0.8731 - val_acc: 0.7411\n",
            "Epoch 15/20\n",
            "50000/50000 [==============================] - 10s 209us/step - loss: 0.5293 - acc: 0.8262 - val_loss: 1.0315 - val_acc: 0.7090\n",
            "Epoch 16/20\n",
            "50000/50000 [==============================] - 10s 209us/step - loss: 0.5059 - acc: 0.8326 - val_loss: 0.9435 - val_acc: 0.7132\n",
            "Epoch 17/20\n",
            "50000/50000 [==============================] - 10s 207us/step - loss: 0.4919 - acc: 0.8392 - val_loss: 1.0174 - val_acc: 0.7082\n",
            "Epoch 18/20\n",
            "50000/50000 [==============================] - 11s 211us/step - loss: 0.4725 - acc: 0.8446 - val_loss: 1.3670 - val_acc: 0.6609\n",
            "Epoch 19/20\n",
            "50000/50000 [==============================] - 10s 208us/step - loss: 0.4586 - acc: 0.8483 - val_loss: 1.5025 - val_acc: 0.6387\n",
            "Epoch 20/20\n",
            "50000/50000 [==============================] - 10s 208us/step - loss: 0.4444 - acc: 0.8547 - val_loss: 1.0068 - val_acc: 0.7227\n"
          ],
          "name": "stdout"
        },
        {
          "output_type": "execute_result",
          "data": {
            "text/plain": [
              "<keras.callbacks.History at 0x7fa43f9c5290>"
            ]
          },
          "metadata": {
            "tags": []
          },
          "execution_count": 19
        }
      ]
    },
    {
      "metadata": {
        "id": "V5hFCzWRI_IR",
        "colab_type": "code",
        "colab": {}
      },
      "cell_type": "code",
      "source": [
        ""
      ],
      "execution_count": 0,
      "outputs": []
    }
  ]
}