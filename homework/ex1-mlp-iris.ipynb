{
  "nbformat": 4,
  "nbformat_minor": 0,
  "metadata": {
    "colab": {
      "name": "ex1-mlp-iris.ipynb",
      "version": "0.3.2",
      "provenance": []
    },
    "kernelspec": {
      "display_name": "tensorflow",
      "language": "python",
      "name": "tensorflow"
    },
    "accelerator": "GPU"
  },
  "cells": [
    {
      "metadata": {
        "id": "1iRFzQly4msH",
        "colab_type": "text"
      },
      "cell_type": "markdown",
      "source": [
        "<center><div style=\"direction:rtl;font-family:B Lotus, B Nazanin, Tahoma\">به نام خدا</div></center>\n",
        "\n",
        "<h1><center><div style=\"direction:rtl;font-family:B Lotus, B Nazanin, Tahoma\">تمرین عملی 1: طبقه بندی با شبکه های تمام متصل روی مجموعه داده IRIS</div></center></h1>"
      ]
    },
    {
      "metadata": {
        "id": "Sv7Qfedt4msJ",
        "colab_type": "text"
      },
      "cell_type": "markdown",
      "source": [
        "## <div style=\"direction:rtl;text-align:right;font-family:B Lotus, B Nazanin, Tahoma\">صورت مساله</div>\n",
        "\n",
        "\n",
        "<div style=\"direction:rtl;text-align:right;font-family:Tahoma\">\n",
        "در اولین جلسه کارگاه طبقه بندی با شبکه های تمام متصل را دیدیم.\n",
        "<br>\n",
        "توصیه می‌شود حتما نوت بوک‌های زیر را قبل از این تمرین مرور کنید:\n",
        "</div>\n",
        "\n",
        "[04_a Gentle Introduction to Keras - Simple neural network(mlp).ipynb](https://nbviewer.jupyter.org/github/alireza-akhavan/SRU-deeplearning-workshop/blob/master/04_a%20Gentle%20Introduction%20to%20Keras%20-%20Simple%20neural%20network%28mlp%29.ipynb)\n",
        "\n",
        "[05_Dropout.ipynb](https://nbviewer.jupyter.org/github/alireza-akhavan/SRU-deeplearning-workshop/blob/master/05_Dropout.ipynb)\n",
        "\n",
        "<div style=\"direction:rtl;text-align:right;font-family:Tahoma\">\n",
        "در این جلسه با داده های تصویری آشنا شدیم. اما در این تمرین برای اینکه بدانیم کاربرد این مباحث در مسائل غیر تصویری نیز هست  از مجموعه داده ی ساختار یافتهiris  شامل 4 ویژگی برای طول و عرض کاسبرگ و گلبرگ استفاده خواهیم کرد که بتوانیم بر اساس این ویژگی ها نوع گل را از 3 کلاس متفاوت تشخیص دهیم.\n",
        "</div>"
      ]
    },
    {
      "metadata": {
        "id": "wetjSspp4msL",
        "colab_type": "text"
      },
      "cell_type": "markdown",
      "source": [
        "## <div style=\"direction:rtl;text-align:right;font-family:B Lotus, B Nazanin, Tahoma\">لود کتابخانه های مورد نیاز </div>\n",
        "<div style=\"direction:rtl;text-align:right;font-family:Tahoma\">\n",
        "کتابخانه های مورد نیاز این تمرین لود شده اند\n",
        "<br>\n",
        "در صورت نیاز میتوانید کتابخانه های بیشتری لود کنید:\n",
        "</div>"
      ]
    },
    {
      "metadata": {
        "id": "9ZM5CyaK4msM",
        "colab_type": "code",
        "colab": {
          "base_uri": "https://localhost:8080/",
          "height": 34
        },
        "outputId": "f91346e9-daed-4bdf-adb1-ee47ab19ad29"
      },
      "cell_type": "code",
      "source": [
        "import numpy as np\n",
        "import keras\n",
        "from sklearn.datasets import load_iris\n",
        "from sklearn.model_selection import train_test_split\n",
        "from keras.models import Sequential\n",
        "from keras.layers import Dense, Dropout\n",
        "from keras.optimizers import Adam"
      ],
      "execution_count": 1,
      "outputs": [
        {
          "output_type": "stream",
          "text": [
            "Using TensorFlow backend.\n"
          ],
          "name": "stderr"
        }
      ]
    },
    {
      "metadata": {
        "id": "XBIyWVys4msS",
        "colab_type": "text"
      },
      "cell_type": "markdown",
      "source": [
        "<div style=\"direction:rtl;text-align:right;font-family:Tahoma\">\n",
        "در این تمرین میخواهیم از مجموعه داده iris استفاده کنیم.\n",
        "<br>\n",
        "توضیحات این مجموعه داده در سایت آن موجود است:\n",
        "</div>\n",
        "\n",
        "https://archive.ics.uci.edu/ml/datasets/iris\n",
        "\n",
        "\n",
        "<div style=\"direction:rtl;text-align:right;font-family:Tahoma\">\n",
        "ویژگی ها و کلاس های این مجموعه داده به شرح زیر است:\n",
        "</div>\n",
        "\n",
        "Attribute Information:\n",
        "\n",
        "1. sepal length in cm\n",
        "2. sepal width in cm\n",
        "3. petal length in cm\n",
        "4. petal width in cm\n",
        "\n",
        "class:\n",
        "\n",
        "    Iris Setosa\n",
        "    Iris Versicolour\n",
        "    Iris Virginica\n",
        "\n",
        "<div style=\"direction:rtl;text-align:right;font-family:Tahoma\">\n",
        "این دیتاست در کتابخانه sklearn موجود است\n",
        "<br>\n",
        "در قطعه کد زیر ویژگی ها را در x و برچسب یا labelهای متناظر را در y لود شده است.\n",
        "</div>"
      ]
    },
    {
      "metadata": {
        "id": "G9a2b2uu4msU",
        "colab_type": "code",
        "colab": {}
      },
      "cell_type": "code",
      "source": [
        "iris_data = load_iris() # load the iris dataset\n",
        "x = iris_data.data\n",
        "y = iris_data.target.reshape(-1, 1) # Convert data to a single column"
      ],
      "execution_count": 0,
      "outputs": []
    },
    {
      "metadata": {
        "id": "rc1q-20V4msW",
        "colab_type": "text"
      },
      "cell_type": "markdown",
      "source": [
        "# <div style=\"direction:rtl;text-align:right;font-family:B Lotus, B Nazanin, Tahoma\">سوال 1:</div>\n",
        "<div style=\"direction:rtl;text-align:right;font-family:Tahoma\">\n",
        "برچسب یا label های ما در حال حاضر عددی است.\n",
        "<br>\n",
        "این اعداد 0 تا 2 هستند و به عبارتی 3 حالت مختلف دارند.\n",
        "<br>\n",
        "این برچسب ها را به فرمت one-hot تبدیل کنید و خروجی را مجدد در y بریزید.\n",
        "\n",
        "<br>\n",
        "<b>راهنمایی: </b>\n",
        "از تابع keras.utils.to_categorical استفاده کنید.\n",
        "</div>"
      ]
    },
    {
      "metadata": {
        "id": "5XOP3u1U4msX",
        "colab_type": "code",
        "colab": {}
      },
      "cell_type": "code",
      "source": [
        "y = keras.utils.to_categorical(y, num_classes=3)"
      ],
      "execution_count": 0,
      "outputs": []
    },
    {
      "metadata": {
        "id": "MGmATaoh4msZ",
        "colab_type": "text"
      },
      "cell_type": "markdown",
      "source": [
        "<div style=\"direction:rtl;text-align:right;font-family:Tahoma\">\n",
        "در زیر داده ها  به داده های test و train تقسیم شده است:\n",
        "</div>"
      ]
    },
    {
      "metadata": {
        "id": "hAheK4Pp4msa",
        "colab_type": "code",
        "colab": {}
      },
      "cell_type": "code",
      "source": [
        "# Split the data for training and testing\n",
        "train_x, test_x, train_y, test_y = train_test_split(x, y, test_size=0.20)"
      ],
      "execution_count": 0,
      "outputs": []
    },
    {
      "metadata": {
        "id": "xgqzI17w4msd",
        "colab_type": "text"
      },
      "cell_type": "markdown",
      "source": [
        "# <div style=\"direction:rtl;text-align:right;font-family:B Lotus, B Nazanin, Tahoma\">سوال 2:</div>\n",
        "<div style=\"direction:rtl;text-align:right;font-family:Tahoma\">\n",
        "یک شبکه با دو hidden-layer در هر لایه 10 نوران و تابع فعالیت relu بسازید. یک لایه Dropout با نرخ 0.5 در لایه آخر ماقبل softmax نیز اضافه کنید.\n",
        "</div>"
      ]
    },
    {
      "metadata": {
        "id": "GW4nGW_Y4mse",
        "colab_type": "code",
        "colab": {
          "base_uri": "https://localhost:8080/",
          "height": 139
        },
        "outputId": "f35d10e8-fe2b-4d79-d153-37676d78b27f"
      },
      "cell_type": "code",
      "source": [
        "# Build the model\n",
        "\n",
        "model = Sequential()\n",
        "model.add(Dense(10, activation='relu', input_dim=4))\n",
        "model.add(Dense(10, activation='relu'))\n",
        "model.add(Dropout(0.5))\n",
        "model.add(Dense(3, activation='softmax'))"
      ],
      "execution_count": 5,
      "outputs": [
        {
          "output_type": "stream",
          "text": [
            "WARNING:tensorflow:From /usr/local/lib/python2.7/dist-packages/tensorflow/python/framework/op_def_library.py:263: colocate_with (from tensorflow.python.framework.ops) is deprecated and will be removed in a future version.\n",
            "Instructions for updating:\n",
            "Colocations handled automatically by placer.\n",
            "WARNING:tensorflow:From /usr/local/lib/python2.7/dist-packages/keras/backend/tensorflow_backend.py:3445: calling dropout (from tensorflow.python.ops.nn_ops) with keep_prob is deprecated and will be removed in a future version.\n",
            "Instructions for updating:\n",
            "Please use `rate` instead of `keep_prob`. Rate should be set to `rate = 1 - keep_prob`.\n"
          ],
          "name": "stdout"
        }
      ]
    },
    {
      "metadata": {
        "id": "Z-ejDokV4msg",
        "colab_type": "code",
        "colab": {
          "base_uri": "https://localhost:8080/",
          "height": 272
        },
        "outputId": "19e5cc3d-d757-4c8a-bb3b-42f9e2ed8ec8"
      },
      "cell_type": "code",
      "source": [
        "model.summary()"
      ],
      "execution_count": 6,
      "outputs": [
        {
          "output_type": "stream",
          "text": [
            "_________________________________________________________________\n",
            "Layer (type)                 Output Shape              Param #   \n",
            "=================================================================\n",
            "dense_1 (Dense)              (None, 10)                50        \n",
            "_________________________________________________________________\n",
            "dense_2 (Dense)              (None, 10)                110       \n",
            "_________________________________________________________________\n",
            "dropout_1 (Dropout)          (None, 10)                0         \n",
            "_________________________________________________________________\n",
            "dense_3 (Dense)              (None, 3)                 33        \n",
            "=================================================================\n",
            "Total params: 193\n",
            "Trainable params: 193\n",
            "Non-trainable params: 0\n",
            "_________________________________________________________________\n"
          ],
          "name": "stdout"
        }
      ]
    },
    {
      "metadata": {
        "id": "rd7t0fFq4msk",
        "colab_type": "text"
      },
      "cell_type": "markdown",
      "source": [
        "<div style=\"direction:rtl;text-align:right;font-family:Tahoma\">در زیر مدل کامپایل شده است.</div>"
      ]
    },
    {
      "metadata": {
        "id": "_nzBHwxc4msl",
        "colab_type": "code",
        "colab": {}
      },
      "cell_type": "code",
      "source": [
        "# Adam optimizer with learning rate of 0.001\n",
        "optimizer = Adam(lr=0.001)\n",
        "model.compile(optimizer, loss='categorical_crossentropy', metrics=['accuracy'])"
      ],
      "execution_count": 0,
      "outputs": []
    },
    {
      "metadata": {
        "id": "8bNSbV394msn",
        "colab_type": "text"
      },
      "cell_type": "markdown",
      "source": [
        "# <div style=\"direction:rtl;text-align:right;font-family:B Lotus, B Nazanin, Tahoma\">سوال 3:</div>\n",
        "<div style=\"direction:rtl;text-align:right;font-family:Tahoma\">\n",
        "مدل را با  batch_size=5 و تعداد 200 ایپاک آموزش دهید.\n",
        "<br>\n",
        "<b>راهنمایی: </b>\n",
        "از تابع model.fit استفاده کنید.\n",
        "</div>"
      ]
    },
    {
      "metadata": {
        "id": "cvdQsKiT4mso",
        "colab_type": "code",
        "colab": {
          "base_uri": "https://localhost:8080/",
          "height": 6905
        },
        "outputId": "83934aa6-9ade-40f0-93fd-e4b94f548b39"
      },
      "cell_type": "code",
      "source": [
        "# Train the model\n",
        "model.fit(train_x, train_y,\n",
        "              epochs=200,\n",
        "              batch_size=5)"
      ],
      "execution_count": 8,
      "outputs": [
        {
          "output_type": "stream",
          "text": [
            "WARNING:tensorflow:From /usr/local/lib/python2.7/dist-packages/tensorflow/python/ops/math_ops.py:3066: to_int32 (from tensorflow.python.ops.math_ops) is deprecated and will be removed in a future version.\n",
            "Instructions for updating:\n",
            "Use tf.cast instead.\n",
            "Epoch 1/200\n",
            "120/120 [==============================] - 1s 8ms/step - loss: 1.3524 - acc: 0.3167\n",
            "Epoch 2/200\n",
            "120/120 [==============================] - 0s 879us/step - loss: 1.1082 - acc: 0.4250\n",
            "Epoch 3/200\n",
            "120/120 [==============================] - 0s 892us/step - loss: 1.0847 - acc: 0.4000\n",
            "Epoch 4/200\n",
            "120/120 [==============================] - 0s 919us/step - loss: 1.0489 - acc: 0.4500\n",
            "Epoch 5/200\n",
            "120/120 [==============================] - 0s 1ms/step - loss: 0.8973 - acc: 0.5333\n",
            "Epoch 6/200\n",
            "120/120 [==============================] - 0s 913us/step - loss: 0.9230 - acc: 0.5000\n",
            "Epoch 7/200\n",
            "120/120 [==============================] - 0s 900us/step - loss: 0.8804 - acc: 0.5250\n",
            "Epoch 8/200\n",
            "120/120 [==============================] - 0s 975us/step - loss: 0.8593 - acc: 0.5500\n",
            "Epoch 9/200\n",
            "120/120 [==============================] - 0s 994us/step - loss: 0.8539 - acc: 0.5417\n",
            "Epoch 10/200\n",
            "120/120 [==============================] - 0s 987us/step - loss: 0.7925 - acc: 0.5750\n",
            "Epoch 11/200\n",
            "120/120 [==============================] - 0s 974us/step - loss: 0.8450 - acc: 0.5500\n",
            "Epoch 12/200\n",
            "120/120 [==============================] - 0s 890us/step - loss: 0.7450 - acc: 0.5917\n",
            "Epoch 13/200\n",
            "120/120 [==============================] - 0s 918us/step - loss: 0.7034 - acc: 0.6333\n",
            "Epoch 14/200\n",
            "120/120 [==============================] - 0s 1ms/step - loss: 0.7552 - acc: 0.6417\n",
            "Epoch 15/200\n",
            "120/120 [==============================] - 0s 901us/step - loss: 0.7149 - acc: 0.6667\n",
            "Epoch 16/200\n",
            "120/120 [==============================] - 0s 902us/step - loss: 0.6870 - acc: 0.7000\n",
            "Epoch 17/200\n",
            "120/120 [==============================] - 0s 924us/step - loss: 0.6857 - acc: 0.6583\n",
            "Epoch 18/200\n",
            "120/120 [==============================] - 0s 883us/step - loss: 0.6572 - acc: 0.6833\n",
            "Epoch 19/200\n",
            "120/120 [==============================] - 0s 881us/step - loss: 0.6706 - acc: 0.6750\n",
            "Epoch 20/200\n",
            "120/120 [==============================] - 0s 919us/step - loss: 0.6751 - acc: 0.6500\n",
            "Epoch 21/200\n",
            "120/120 [==============================] - 0s 909us/step - loss: 0.6329 - acc: 0.6917\n",
            "Epoch 22/200\n",
            "120/120 [==============================] - 0s 890us/step - loss: 0.6537 - acc: 0.6667\n",
            "Epoch 23/200\n",
            "120/120 [==============================] - 0s 1ms/step - loss: 0.6890 - acc: 0.5833\n",
            "Epoch 24/200\n",
            "120/120 [==============================] - 0s 931us/step - loss: 0.6797 - acc: 0.6083\n",
            "Epoch 25/200\n",
            "120/120 [==============================] - 0s 939us/step - loss: 0.5821 - acc: 0.7583\n",
            "Epoch 26/200\n",
            "120/120 [==============================] - 0s 911us/step - loss: 0.6382 - acc: 0.6417\n",
            "Epoch 27/200\n",
            "120/120 [==============================] - 0s 904us/step - loss: 0.6316 - acc: 0.6667\n",
            "Epoch 28/200\n",
            "120/120 [==============================] - 0s 875us/step - loss: 0.6157 - acc: 0.6917\n",
            "Epoch 29/200\n",
            "120/120 [==============================] - 0s 883us/step - loss: 0.5604 - acc: 0.7833\n",
            "Epoch 30/200\n",
            "120/120 [==============================] - 0s 842us/step - loss: 0.5836 - acc: 0.7417\n",
            "Epoch 31/200\n",
            "120/120 [==============================] - 0s 858us/step - loss: 0.5058 - acc: 0.8250\n",
            "Epoch 32/200\n",
            "120/120 [==============================] - 0s 936us/step - loss: 0.5838 - acc: 0.7000\n",
            "Epoch 33/200\n",
            "120/120 [==============================] - 0s 876us/step - loss: 0.5239 - acc: 0.7917\n",
            "Epoch 34/200\n",
            "120/120 [==============================] - 0s 842us/step - loss: 0.4970 - acc: 0.7833\n",
            "Epoch 35/200\n",
            "120/120 [==============================] - 0s 849us/step - loss: 0.5811 - acc: 0.7333\n",
            "Epoch 36/200\n",
            "120/120 [==============================] - 0s 898us/step - loss: 0.5330 - acc: 0.7667\n",
            "Epoch 37/200\n",
            "120/120 [==============================] - 0s 856us/step - loss: 0.4631 - acc: 0.8250\n",
            "Epoch 38/200\n",
            "120/120 [==============================] - 0s 831us/step - loss: 0.5896 - acc: 0.7250\n",
            "Epoch 39/200\n",
            "120/120 [==============================] - 0s 846us/step - loss: 0.5184 - acc: 0.7750\n",
            "Epoch 40/200\n",
            "120/120 [==============================] - 0s 878us/step - loss: 0.4728 - acc: 0.7750\n",
            "Epoch 41/200\n",
            "120/120 [==============================] - 0s 850us/step - loss: 0.5107 - acc: 0.7917\n",
            "Epoch 42/200\n",
            "120/120 [==============================] - 0s 923us/step - loss: 0.4958 - acc: 0.8000\n",
            "Epoch 43/200\n",
            "120/120 [==============================] - 0s 845us/step - loss: 0.5375 - acc: 0.7417\n",
            "Epoch 44/200\n",
            "120/120 [==============================] - 0s 835us/step - loss: 0.4437 - acc: 0.8750\n",
            "Epoch 45/200\n",
            "120/120 [==============================] - 0s 867us/step - loss: 0.4975 - acc: 0.8000\n",
            "Epoch 46/200\n",
            "120/120 [==============================] - 0s 849us/step - loss: 0.4745 - acc: 0.8167\n",
            "Epoch 47/200\n",
            "120/120 [==============================] - 0s 844us/step - loss: 0.4732 - acc: 0.7667\n",
            "Epoch 48/200\n",
            "120/120 [==============================] - 0s 867us/step - loss: 0.4883 - acc: 0.7583\n",
            "Epoch 49/200\n",
            "120/120 [==============================] - 0s 843us/step - loss: 0.4412 - acc: 0.7917\n",
            "Epoch 50/200\n",
            "120/120 [==============================] - 0s 862us/step - loss: 0.4086 - acc: 0.8500\n",
            "Epoch 51/200\n",
            "120/120 [==============================] - 0s 848us/step - loss: 0.4359 - acc: 0.8167\n",
            "Epoch 52/200\n",
            "120/120 [==============================] - 0s 900us/step - loss: 0.3845 - acc: 0.8583\n",
            "Epoch 53/200\n",
            "120/120 [==============================] - 0s 865us/step - loss: 0.3478 - acc: 0.8667\n",
            "Epoch 54/200\n",
            "120/120 [==============================] - 0s 881us/step - loss: 0.4330 - acc: 0.8167\n",
            "Epoch 55/200\n",
            "120/120 [==============================] - 0s 857us/step - loss: 0.4398 - acc: 0.8250\n",
            "Epoch 56/200\n",
            "120/120 [==============================] - 0s 882us/step - loss: 0.4111 - acc: 0.8167\n",
            "Epoch 57/200\n",
            "120/120 [==============================] - 0s 876us/step - loss: 0.4278 - acc: 0.8250\n",
            "Epoch 58/200\n",
            "120/120 [==============================] - 0s 859us/step - loss: 0.4467 - acc: 0.8000\n",
            "Epoch 59/200\n",
            "120/120 [==============================] - 0s 857us/step - loss: 0.3662 - acc: 0.8833\n",
            "Epoch 60/200\n",
            "120/120 [==============================] - 0s 865us/step - loss: 0.3673 - acc: 0.8417\n",
            "Epoch 61/200\n",
            "120/120 [==============================] - 0s 940us/step - loss: 0.4609 - acc: 0.7917\n",
            "Epoch 62/200\n",
            "120/120 [==============================] - 0s 876us/step - loss: 0.3998 - acc: 0.8000\n",
            "Epoch 63/200\n",
            "120/120 [==============================] - 0s 862us/step - loss: 0.3915 - acc: 0.8583\n",
            "Epoch 64/200\n",
            "120/120 [==============================] - 0s 894us/step - loss: 0.3805 - acc: 0.8333\n",
            "Epoch 65/200\n",
            "120/120 [==============================] - 0s 868us/step - loss: 0.4340 - acc: 0.7833\n",
            "Epoch 66/200\n",
            "120/120 [==============================] - 0s 888us/step - loss: 0.3965 - acc: 0.8167\n",
            "Epoch 67/200\n",
            "120/120 [==============================] - 0s 864us/step - loss: 0.3693 - acc: 0.8500\n",
            "Epoch 68/200\n",
            "120/120 [==============================] - 0s 853us/step - loss: 0.3944 - acc: 0.8083\n",
            "Epoch 69/200\n",
            "120/120 [==============================] - 0s 889us/step - loss: 0.3693 - acc: 0.8417\n",
            "Epoch 70/200\n",
            "120/120 [==============================] - 0s 879us/step - loss: 0.3936 - acc: 0.7833\n",
            "Epoch 71/200\n",
            "120/120 [==============================] - 0s 939us/step - loss: 0.4019 - acc: 0.8000\n",
            "Epoch 72/200\n",
            "120/120 [==============================] - 0s 867us/step - loss: 0.3873 - acc: 0.8167\n",
            "Epoch 73/200\n",
            "120/120 [==============================] - 0s 855us/step - loss: 0.4161 - acc: 0.7833\n",
            "Epoch 74/200\n",
            "120/120 [==============================] - 0s 857us/step - loss: 0.3969 - acc: 0.7917\n",
            "Epoch 75/200\n",
            "120/120 [==============================] - 0s 841us/step - loss: 0.3608 - acc: 0.8500\n",
            "Epoch 76/200\n",
            "120/120 [==============================] - 0s 872us/step - loss: 0.3965 - acc: 0.7833\n",
            "Epoch 77/200\n",
            "120/120 [==============================] - 0s 849us/step - loss: 0.3589 - acc: 0.8250\n",
            "Epoch 78/200\n",
            "120/120 [==============================] - 0s 833us/step - loss: 0.3764 - acc: 0.8250\n",
            "Epoch 79/200\n",
            "120/120 [==============================] - 0s 837us/step - loss: 0.3001 - acc: 0.8667\n",
            "Epoch 80/200\n",
            "120/120 [==============================] - 0s 1ms/step - loss: 0.2960 - acc: 0.8667\n",
            "Epoch 81/200\n",
            "120/120 [==============================] - 0s 838us/step - loss: 0.3608 - acc: 0.8417\n",
            "Epoch 82/200\n",
            "120/120 [==============================] - 0s 845us/step - loss: 0.3233 - acc: 0.8667\n",
            "Epoch 83/200\n",
            "120/120 [==============================] - 0s 839us/step - loss: 0.3218 - acc: 0.8750\n",
            "Epoch 84/200\n",
            "120/120 [==============================] - 0s 866us/step - loss: 0.3277 - acc: 0.8250\n",
            "Epoch 85/200\n",
            "120/120 [==============================] - 0s 872us/step - loss: 0.2897 - acc: 0.8917\n",
            "Epoch 86/200\n",
            "120/120 [==============================] - 0s 846us/step - loss: 0.3705 - acc: 0.8250\n",
            "Epoch 87/200\n",
            "120/120 [==============================] - 0s 868us/step - loss: 0.3787 - acc: 0.8000\n",
            "Epoch 88/200\n",
            "120/120 [==============================] - 0s 851us/step - loss: 0.3115 - acc: 0.8583\n",
            "Epoch 89/200\n",
            "120/120 [==============================] - 0s 885us/step - loss: 0.2539 - acc: 0.9000\n",
            "Epoch 90/200\n",
            "120/120 [==============================] - 0s 910us/step - loss: 0.3402 - acc: 0.8583\n",
            "Epoch 91/200\n",
            "120/120 [==============================] - 0s 905us/step - loss: 0.3200 - acc: 0.8583\n",
            "Epoch 92/200\n",
            "120/120 [==============================] - 0s 859us/step - loss: 0.3435 - acc: 0.8333\n",
            "Epoch 93/200\n",
            "120/120 [==============================] - 0s 865us/step - loss: 0.3679 - acc: 0.8583\n",
            "Epoch 94/200\n",
            "120/120 [==============================] - 0s 842us/step - loss: 0.2997 - acc: 0.8833\n",
            "Epoch 95/200\n",
            "120/120 [==============================] - 0s 844us/step - loss: 0.3191 - acc: 0.8750\n",
            "Epoch 96/200\n",
            "120/120 [==============================] - 0s 839us/step - loss: 0.2740 - acc: 0.8667\n",
            "Epoch 97/200\n",
            "120/120 [==============================] - 0s 862us/step - loss: 0.3511 - acc: 0.8333\n",
            "Epoch 98/200\n",
            "120/120 [==============================] - 0s 898us/step - loss: 0.2766 - acc: 0.8750\n",
            "Epoch 99/200\n",
            "120/120 [==============================] - 0s 862us/step - loss: 0.2958 - acc: 0.8667\n",
            "Epoch 100/200\n",
            "120/120 [==============================] - 0s 928us/step - loss: 0.3079 - acc: 0.8667\n",
            "Epoch 101/200\n",
            "120/120 [==============================] - 0s 858us/step - loss: 0.3682 - acc: 0.8417\n",
            "Epoch 102/200\n",
            "120/120 [==============================] - 0s 863us/step - loss: 0.3084 - acc: 0.8417\n",
            "Epoch 103/200\n",
            "120/120 [==============================] - 0s 843us/step - loss: 0.3079 - acc: 0.8667\n",
            "Epoch 104/200\n",
            "120/120 [==============================] - 0s 847us/step - loss: 0.3848 - acc: 0.7750\n",
            "Epoch 105/200\n",
            "120/120 [==============================] - 0s 864us/step - loss: 0.3029 - acc: 0.8833\n",
            "Epoch 106/200\n",
            "120/120 [==============================] - 0s 910us/step - loss: 0.2442 - acc: 0.9333\n",
            "Epoch 107/200\n",
            "120/120 [==============================] - 0s 873us/step - loss: 0.2635 - acc: 0.8583\n",
            "Epoch 108/200\n",
            "120/120 [==============================] - 0s 821us/step - loss: 0.3145 - acc: 0.8667\n",
            "Epoch 109/200\n",
            "120/120 [==============================] - 0s 1ms/step - loss: 0.3297 - acc: 0.8667\n",
            "Epoch 110/200\n",
            "120/120 [==============================] - 0s 865us/step - loss: 0.2846 - acc: 0.9083\n",
            "Epoch 111/200\n",
            "120/120 [==============================] - 0s 861us/step - loss: 0.2965 - acc: 0.8917\n",
            "Epoch 112/200\n",
            "120/120 [==============================] - 0s 841us/step - loss: 0.3049 - acc: 0.9083\n",
            "Epoch 113/200\n",
            "120/120 [==============================] - 0s 823us/step - loss: 0.2735 - acc: 0.9000\n",
            "Epoch 114/200\n",
            "120/120 [==============================] - 0s 863us/step - loss: 0.3829 - acc: 0.8417\n",
            "Epoch 115/200\n",
            "120/120 [==============================] - 0s 846us/step - loss: 0.2743 - acc: 0.8917\n",
            "Epoch 116/200\n",
            "120/120 [==============================] - 0s 852us/step - loss: 0.3040 - acc: 0.8750\n",
            "Epoch 117/200\n",
            "120/120 [==============================] - 0s 828us/step - loss: 0.2896 - acc: 0.8917\n",
            "Epoch 118/200\n",
            "120/120 [==============================] - 0s 874us/step - loss: 0.3759 - acc: 0.8167\n",
            "Epoch 119/200\n",
            "120/120 [==============================] - 0s 925us/step - loss: 0.2325 - acc: 0.9417\n",
            "Epoch 120/200\n",
            "120/120 [==============================] - 0s 869us/step - loss: 0.3104 - acc: 0.8417\n",
            "Epoch 121/200\n",
            "120/120 [==============================] - 0s 879us/step - loss: 0.2309 - acc: 0.9333\n",
            "Epoch 122/200\n",
            "120/120 [==============================] - 0s 851us/step - loss: 0.2546 - acc: 0.9000\n",
            "Epoch 123/200\n",
            "120/120 [==============================] - 0s 852us/step - loss: 0.2596 - acc: 0.8833\n",
            "Epoch 124/200\n",
            "120/120 [==============================] - 0s 851us/step - loss: 0.2356 - acc: 0.9167\n",
            "Epoch 125/200\n",
            "120/120 [==============================] - 0s 860us/step - loss: 0.3471 - acc: 0.8083\n",
            "Epoch 126/200\n",
            "120/120 [==============================] - 0s 863us/step - loss: 0.2795 - acc: 0.8750\n",
            "Epoch 127/200\n",
            "120/120 [==============================] - 0s 860us/step - loss: 0.2294 - acc: 0.9000\n",
            "Epoch 128/200\n",
            "120/120 [==============================] - 0s 911us/step - loss: 0.3712 - acc: 0.8167\n",
            "Epoch 129/200\n",
            "120/120 [==============================] - 0s 911us/step - loss: 0.2319 - acc: 0.9083\n",
            "Epoch 130/200\n",
            "120/120 [==============================] - 0s 854us/step - loss: 0.2695 - acc: 0.8833\n",
            "Epoch 131/200\n",
            "120/120 [==============================] - 0s 851us/step - loss: 0.3294 - acc: 0.8500\n",
            "Epoch 132/200\n",
            "120/120 [==============================] - 0s 869us/step - loss: 0.2554 - acc: 0.8833\n",
            "Epoch 133/200\n",
            "120/120 [==============================] - 0s 833us/step - loss: 0.3045 - acc: 0.8750\n",
            "Epoch 134/200\n",
            "120/120 [==============================] - 0s 839us/step - loss: 0.2800 - acc: 0.9000\n",
            "Epoch 135/200\n",
            "120/120 [==============================] - 0s 886us/step - loss: 0.2867 - acc: 0.8917\n",
            "Epoch 136/200\n",
            "120/120 [==============================] - 0s 868us/step - loss: 0.3351 - acc: 0.8500\n",
            "Epoch 137/200\n",
            "120/120 [==============================] - 0s 875us/step - loss: 0.2363 - acc: 0.9250\n",
            "Epoch 138/200\n",
            "120/120 [==============================] - 0s 1ms/step - loss: 0.3249 - acc: 0.8667\n",
            "Epoch 139/200\n",
            "120/120 [==============================] - 0s 835us/step - loss: 0.2597 - acc: 0.9333\n",
            "Epoch 140/200\n",
            "120/120 [==============================] - 0s 853us/step - loss: 0.2443 - acc: 0.9417\n",
            "Epoch 141/200\n",
            "120/120 [==============================] - 0s 882us/step - loss: 0.2678 - acc: 0.8750\n",
            "Epoch 142/200\n",
            "120/120 [==============================] - 0s 875us/step - loss: 0.2818 - acc: 0.8583\n",
            "Epoch 143/200\n",
            "120/120 [==============================] - 0s 847us/step - loss: 0.2768 - acc: 0.8750\n",
            "Epoch 144/200\n",
            "120/120 [==============================] - 0s 846us/step - loss: 0.2609 - acc: 0.8583\n",
            "Epoch 145/200\n",
            "120/120 [==============================] - 0s 855us/step - loss: 0.2693 - acc: 0.8750\n",
            "Epoch 146/200\n",
            "120/120 [==============================] - 0s 840us/step - loss: 0.2490 - acc: 0.8833\n",
            "Epoch 147/200\n",
            "120/120 [==============================] - 0s 839us/step - loss: 0.2080 - acc: 0.9500\n",
            "Epoch 148/200\n",
            "120/120 [==============================] - 0s 988us/step - loss: 0.2123 - acc: 0.9250\n",
            "Epoch 149/200\n",
            "120/120 [==============================] - 0s 889us/step - loss: 0.2622 - acc: 0.9000\n",
            "Epoch 150/200\n",
            "120/120 [==============================] - 0s 851us/step - loss: 0.2591 - acc: 0.9000\n",
            "Epoch 151/200\n",
            "120/120 [==============================] - 0s 845us/step - loss: 0.2849 - acc: 0.8833\n",
            "Epoch 152/200\n",
            "120/120 [==============================] - 0s 846us/step - loss: 0.3066 - acc: 0.8833\n",
            "Epoch 153/200\n",
            "120/120 [==============================] - 0s 861us/step - loss: 0.2940 - acc: 0.9000\n",
            "Epoch 154/200\n",
            "120/120 [==============================] - 0s 845us/step - loss: 0.2393 - acc: 0.9000\n",
            "Epoch 155/200\n",
            "120/120 [==============================] - 0s 872us/step - loss: 0.2376 - acc: 0.9083\n",
            "Epoch 156/200\n",
            "120/120 [==============================] - 0s 852us/step - loss: 0.3220 - acc: 0.8583\n",
            "Epoch 157/200\n",
            "120/120 [==============================] - 0s 900us/step - loss: 0.2936 - acc: 0.8667\n",
            "Epoch 158/200\n",
            "120/120 [==============================] - 0s 893us/step - loss: 0.3436 - acc: 0.8667\n",
            "Epoch 159/200\n",
            "120/120 [==============================] - 0s 858us/step - loss: 0.2575 - acc: 0.9083\n",
            "Epoch 160/200\n",
            "120/120 [==============================] - 0s 861us/step - loss: 0.2392 - acc: 0.9083\n",
            "Epoch 161/200\n",
            "120/120 [==============================] - 0s 930us/step - loss: 0.3012 - acc: 0.8583\n",
            "Epoch 162/200\n",
            "120/120 [==============================] - 0s 828us/step - loss: 0.2420 - acc: 0.9333\n",
            "Epoch 163/200\n",
            "120/120 [==============================] - 0s 879us/step - loss: 0.2446 - acc: 0.9083\n",
            "Epoch 164/200\n",
            "120/120 [==============================] - 0s 855us/step - loss: 0.2910 - acc: 0.9000\n",
            "Epoch 165/200\n",
            "120/120 [==============================] - 0s 846us/step - loss: 0.3151 - acc: 0.8500\n",
            "Epoch 166/200\n",
            "120/120 [==============================] - 0s 837us/step - loss: 0.2900 - acc: 0.8917\n",
            "Epoch 167/200\n",
            "120/120 [==============================] - 0s 938us/step - loss: 0.3148 - acc: 0.8500\n",
            "Epoch 168/200\n",
            "120/120 [==============================] - 0s 859us/step - loss: 0.2607 - acc: 0.8833\n",
            "Epoch 169/200\n",
            "120/120 [==============================] - 0s 849us/step - loss: 0.2559 - acc: 0.8667\n",
            "Epoch 170/200\n",
            "120/120 [==============================] - 0s 854us/step - loss: 0.2694 - acc: 0.8583\n",
            "Epoch 171/200\n",
            "120/120 [==============================] - 0s 843us/step - loss: 0.3099 - acc: 0.8333\n",
            "Epoch 172/200\n",
            "120/120 [==============================] - 0s 858us/step - loss: 0.2071 - acc: 0.9083\n",
            "Epoch 173/200\n",
            "120/120 [==============================] - 0s 872us/step - loss: 0.3084 - acc: 0.8667\n",
            "Epoch 174/200\n",
            "120/120 [==============================] - 0s 849us/step - loss: 0.3224 - acc: 0.8833\n",
            "Epoch 175/200\n",
            "120/120 [==============================] - 0s 873us/step - loss: 0.3024 - acc: 0.8500\n",
            "Epoch 176/200\n",
            "120/120 [==============================] - 0s 855us/step - loss: 0.2652 - acc: 0.8917\n",
            "Epoch 177/200\n",
            "120/120 [==============================] - 0s 992us/step - loss: 0.2599 - acc: 0.8833\n",
            "Epoch 178/200\n",
            "120/120 [==============================] - 0s 842us/step - loss: 0.3059 - acc: 0.8667\n",
            "Epoch 179/200\n",
            "120/120 [==============================] - 0s 877us/step - loss: 0.1917 - acc: 0.9667\n",
            "Epoch 180/200\n",
            "120/120 [==============================] - 0s 848us/step - loss: 0.2863 - acc: 0.8667\n",
            "Epoch 181/200\n",
            "120/120 [==============================] - 0s 851us/step - loss: 0.2958 - acc: 0.8750\n",
            "Epoch 182/200\n",
            "120/120 [==============================] - 0s 843us/step - loss: 0.2810 - acc: 0.8750\n",
            "Epoch 183/200\n",
            "120/120 [==============================] - 0s 878us/step - loss: 0.2386 - acc: 0.9000\n",
            "Epoch 184/200\n",
            "120/120 [==============================] - 0s 841us/step - loss: 0.2410 - acc: 0.9000\n",
            "Epoch 185/200\n",
            "120/120 [==============================] - 0s 835us/step - loss: 0.2991 - acc: 0.8833\n",
            "Epoch 186/200\n",
            "120/120 [==============================] - 0s 925us/step - loss: 0.2848 - acc: 0.8917\n",
            "Epoch 187/200\n",
            "120/120 [==============================] - 0s 837us/step - loss: 0.2943 - acc: 0.8583\n",
            "Epoch 188/200\n",
            "120/120 [==============================] - 0s 855us/step - loss: 0.2431 - acc: 0.9083\n",
            "Epoch 189/200\n",
            "120/120 [==============================] - 0s 852us/step - loss: 0.2760 - acc: 0.8750\n",
            "Epoch 190/200\n",
            "120/120 [==============================] - 0s 847us/step - loss: 0.2944 - acc: 0.8583\n",
            "Epoch 191/200\n",
            "120/120 [==============================] - 0s 881us/step - loss: 0.3341 - acc: 0.8750\n",
            "Epoch 192/200\n",
            "120/120 [==============================] - 0s 845us/step - loss: 0.2347 - acc: 0.9250\n",
            "Epoch 193/200\n",
            "120/120 [==============================] - 0s 876us/step - loss: 0.2584 - acc: 0.8833\n",
            "Epoch 194/200\n",
            "120/120 [==============================] - 0s 860us/step - loss: 0.2714 - acc: 0.8917\n",
            "Epoch 195/200\n",
            "120/120 [==============================] - 0s 829us/step - loss: 0.2184 - acc: 0.9417\n",
            "Epoch 196/200\n",
            "120/120 [==============================] - 0s 1ms/step - loss: 0.2161 - acc: 0.8917\n",
            "Epoch 197/200\n",
            "120/120 [==============================] - 0s 855us/step - loss: 0.3045 - acc: 0.8500\n",
            "Epoch 198/200\n",
            "120/120 [==============================] - 0s 878us/step - loss: 0.3115 - acc: 0.8417\n",
            "Epoch 199/200\n",
            "120/120 [==============================] - 0s 841us/step - loss: 0.2673 - acc: 0.9250\n",
            "Epoch 200/200\n",
            "120/120 [==============================] - 0s 904us/step - loss: 0.2593 - acc: 0.8667\n"
          ],
          "name": "stdout"
        },
        {
          "output_type": "execute_result",
          "data": {
            "text/plain": [
              "<keras.callbacks.History at 0x7f1cfe1ca650>"
            ]
          },
          "metadata": {
            "tags": []
          },
          "execution_count": 8
        }
      ]
    },
    {
      "metadata": {
        "id": "DSoeHC_I4msr",
        "colab_type": "text"
      },
      "cell_type": "markdown",
      "source": [
        "# <div style=\"direction:rtl;text-align:right;font-family:B Lotus, B Nazanin, Tahoma\">سوال 4:</div>\n",
        "<div style=\"direction:rtl;text-align:right;font-family:Tahoma\">\n",
        "مدل را روی داده های test ارزیابی کنید.\n",
        "<br>\n",
        "<b>راهنمایی: </b>\n",
        "از تابع model.evaluate استفاده کنید.\n",
        "</div>"
      ]
    },
    {
      "metadata": {
        "id": "-7OBTlks4mss",
        "colab_type": "code",
        "colab": {
          "base_uri": "https://localhost:8080/",
          "height": 68
        },
        "outputId": "f36981bd-9734-4b19-9926-0a9504d83914"
      },
      "cell_type": "code",
      "source": [
        "# Test on unseen data\n",
        "results = model.evaluate(test_x, test_y)\n",
        "\n",
        "print('Final test set loss: {:4f}'.format(results[0]))\n",
        "print('Final test set accuracy: {:4f}'.format(results[1]))"
      ],
      "execution_count": 9,
      "outputs": [
        {
          "output_type": "stream",
          "text": [
            "\r30/30 [==============================] - 0s 1ms/step\n",
            "Final test set loss: 0.039467\n",
            "Final test set accuracy: 1.000000\n"
          ],
          "name": "stdout"
        }
      ]
    },
    {
      "metadata": {
        "id": "zOH87u-N4msv",
        "colab_type": "text"
      },
      "cell_type": "markdown",
      "source": [
        "<div class=\"alert alert-block alert-info\">\n",
        "<div style=\"direction:rtl;text-align:right;font-family:B Lotus, B Nazanin, Tahoma\"> دوره مقدماتی یادگیری عمیق<br>علیرضا اخوان پور<br>پنج شنبه، ۱۸ و ۲۵ بهمن ۱۳۹۷<br>\n",
        "</div>\n",
        "<a href=\"http://class.vision\">Class.Vision</a> - <a href=\"http://AkhavanPour.ir\">AkhavanPour.ir</a> - <a href=\"https://github.com/Alireza-Akhavan/\">GitHub</a>\n",
        "\n",
        "</div>"
      ]
    }
  ]
}